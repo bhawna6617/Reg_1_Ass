{
 "cells": [
  {
   "cell_type": "markdown",
   "id": "2b81a9f0",
   "metadata": {},
   "source": [
    "# question1"
   ]
  },
  {
   "cell_type": "code",
   "execution_count": 1,
   "id": "ce56d769",
   "metadata": {},
   "outputs": [],
   "source": [
    "# Simple Linear Regression: Simple linear regression is a statistical method used to model the relationship between a single independent variable and a dependent variable. It assumes that there is a linear relationship between the independent and dependent variables. The equation for simple linear regression is represented as:\n",
    "\n",
    "# Multiple Linear Regression: Multiple linear regression is an extension of simple linear regression, where there are two or more independent variables predicting a single dependent variable. It assumes a linear relationship between the dependent variable and each independent variable. "
   ]
  },
  {
   "cell_type": "markdown",
   "id": "029685a6",
   "metadata": {},
   "source": [
    "# question 2"
   ]
  },
  {
   "cell_type": "code",
   "execution_count": 2,
   "id": "daff76c3",
   "metadata": {},
   "outputs": [],
   "source": [
    "# Linearity: The relationship between the independent and dependent variables should be linear. This means that the change in the dependent variable is proportional to the change in the independent variable(s).\n",
    "\n",
    "# Independence: The residuals (the differences between the observed and predicted values) should be independent of each other. In other words, there should be no pattern in the residuals.\n",
    "\n",
    "# Homoscedasticity: The variance of the residuals should be constant across all levels of the independent variables. This means that the spread of the residuals should remain roughly the same throughout the range of the independent variable(s).\n",
    "\n",
    "# Normality: The residuals should be normally distributed. This implies that most of the residuals cluster around zero, with fewer residuals farther away from zero.\n",
    "\n",
    "# No multicollinearity: In multiple linear regression, the independent variables should not be highly correlated with each other. High multicollinearity can make it difficult to estimate the individual effects of the independent variables.\n",
    "\n"
   ]
  },
  {
   "cell_type": "markdown",
   "id": "a43cba9a",
   "metadata": {},
   "source": [
    "# question 3"
   ]
  },
  {
   "cell_type": "code",
   "execution_count": 3,
   "id": "661b8bdf",
   "metadata": {},
   "outputs": [],
   "source": [
    "# Intercept : The intercept represents the value of the dependent variable when all independent variables are equal to zero. It is the predicted value of the dependent variable when all predictors have no effect.\n",
    "\n",
    "# Slope : The slope represents the change in the dependent variable for a one-unit change in the independent variable, holding all other variables constant. It indicates the rate of change of the dependent variable with respect to the independent variable."
   ]
  },
  {
   "cell_type": "markdown",
   "id": "c7815d3c",
   "metadata": {},
   "source": [
    "# question 4"
   ]
  },
  {
   "cell_type": "code",
   "execution_count": 4,
   "id": "25094853",
   "metadata": {},
   "outputs": [],
   "source": [
    "\n",
    "# Gradient descent is an optimization algorithm used to minimize the cost function of a machine learning model. It's a first-order iterative optimization algorithm that finds the minimum of a function by moving in the direction of the steepest descent (negative gradient) of the function."
   ]
  },
  {
   "cell_type": "markdown",
   "id": "519ef10e",
   "metadata": {},
   "source": [
    "# question 5"
   ]
  },
  {
   "cell_type": "code",
   "execution_count": null,
   "id": "96d7e253",
   "metadata": {},
   "outputs": [],
   "source": [
    "\n",
    "# Multiple linear regression is an extension of simple linear regression that allows for the modeling of the relationship between a dependent variable and multiple independent variables. In simple linear regression, there is only one independent variable, whereas in multiple linear regression, there are two or more independent variables."
   ]
  }
 ],
 "metadata": {
  "kernelspec": {
   "display_name": "Python 3 (ipykernel)",
   "language": "python",
   "name": "python3"
  },
  "language_info": {
   "codemirror_mode": {
    "name": "ipython",
    "version": 3
   },
   "file_extension": ".py",
   "mimetype": "text/x-python",
   "name": "python",
   "nbconvert_exporter": "python",
   "pygments_lexer": "ipython3",
   "version": "3.11.5"
  }
 },
 "nbformat": 4,
 "nbformat_minor": 5
}
